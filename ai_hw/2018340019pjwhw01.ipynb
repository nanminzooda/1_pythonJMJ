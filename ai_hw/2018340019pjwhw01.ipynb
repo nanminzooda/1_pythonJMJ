{
 "cells": [
  {
   "cell_type": "code",
   "execution_count": 2,
   "metadata": {
    "_cell_guid": "b1076dfc-b9ad-4769-8c92-a6c4dae69d19",
    "_uuid": "8f2839f25d086af736a60e9eeb907d3b93b6e0e5",
    "execution": {
     "iopub.execute_input": "2022-09-19T10:16:36.446711Z",
     "iopub.status.busy": "2022-09-19T10:16:36.446290Z",
     "iopub.status.idle": "2022-09-19T10:16:36.453137Z",
     "shell.execute_reply": "2022-09-19T10:16:36.452139Z",
     "shell.execute_reply.started": "2022-09-19T10:16:36.446672Z"
    }
   },
   "outputs": [],
   "source": [
    "# This Python 3 environment comes with many helpful analytics libraries installed\n",
    "# It is defined by the kaggle/python Docker image: https://github.com/kaggle/docker-python\n",
    "# For example, here's several helpful packages to load\n",
    "\n",
    "import numpy as np # linear algebra\n",
    "import pandas as pd # data processing, CSV file I/O (e.g. pd.read_csv)\n",
    "\n",
    "# Input data files are available in the read-only \"../input/\" directory\n",
    "# For example, running this (by clicking run or pressing Shift+Enter) will list all files under the input directory\n",
    "\n",
    "import os\n",
    "for dirname, _, filenames in os.walk('/kaggle/input'):\n",
    "    for filename in filenames:\n",
    "        print(os.path.join(dirname, filename))\n",
    "\n",
    "# You can write up to 20GB to the current directory (/kaggle/working/) that gets preserved as output when you create a version using \"Save & Run All\" \n",
    "# You can also write temporary files to /kaggle/temp/, but they won't be saved outside of the current session"
   ]
  },
  {
   "cell_type": "markdown",
   "metadata": {},
   "source": [
    "# 문제1."
   ]
  },
  {
   "cell_type": "code",
   "execution_count": 3,
   "metadata": {
    "execution": {
     "iopub.execute_input": "2022-09-18T07:47:05.070224Z",
     "iopub.status.busy": "2022-09-18T07:47:05.069838Z",
     "iopub.status.idle": "2022-09-18T07:47:06.644272Z",
     "shell.execute_reply": "2022-09-18T07:47:06.643402Z",
     "shell.execute_reply.started": "2022-09-18T07:47:05.070182Z"
    }
   },
   "outputs": [
    {
     "name": "stdout",
     "output_type": "stream",
     "text": [
      "Month :12\n",
      "31\n"
     ]
    }
   ],
   "source": [
    "Month=[31,28,31,30,31,30,31,31,30,31,30,31]\n",
    "M=int(input('Month :'))\n",
    "print(Month[M-1])"
   ]
  },
  {
   "cell_type": "markdown",
   "metadata": {},
   "source": [
    "# 문제2."
   ]
  },
  {
   "cell_type": "code",
   "execution_count": 4,
   "metadata": {
    "execution": {
     "iopub.execute_input": "2022-09-18T08:11:33.554956Z",
     "iopub.status.busy": "2022-09-18T08:11:33.554567Z",
     "iopub.status.idle": "2022-09-18T08:11:35.588483Z",
     "shell.execute_reply": "2022-09-18T08:11:35.587299Z",
     "shell.execute_reply.started": "2022-09-18T08:11:33.554926Z"
    }
   },
   "outputs": [
    {
     "name": "stdout",
     "output_type": "stream",
     "text": [
      "Month :12\n",
      "Day :31\n",
      "365\n"
     ]
    }
   ],
   "source": [
    "Month=[31,28,31,30,31,30,31,31,30,31,30,31]\n",
    "Day=0\n",
    "while 1:\n",
    "    M=int(input('Month :'))\n",
    "    if M>=1 and M<=12:\n",
    "        break\n",
    "while(1):\n",
    "    D=int(input('Day :'))\n",
    "    if D>=1 and D<=Month[M-1]:\n",
    "        break\n",
    "for i in range(0,M-1):\n",
    "    Day+=Month[i]\n",
    "Day+=D\n",
    "print(Day)"
   ]
  },
  {
   "cell_type": "markdown",
   "metadata": {},
   "source": [
    "# 문제3."
   ]
  },
  {
   "cell_type": "code",
   "execution_count": 5,
   "metadata": {
    "execution": {
     "iopub.execute_input": "2022-09-18T08:19:46.524663Z",
     "iopub.status.busy": "2022-09-18T08:19:46.523914Z",
     "iopub.status.idle": "2022-09-18T08:20:25.542687Z",
     "shell.execute_reply": "2022-09-18T08:20:25.541645Z",
     "shell.execute_reply.started": "2022-09-18T08:19:46.524625Z"
    }
   },
   "outputs": [
    {
     "name": "stdout",
     "output_type": "stream",
     "text": [
      "10\n",
      "[7 1 6 5 3 1 7 1 2 7]\n",
      "평균 :  4.0\n",
      "분산 :  6.4\n",
      "표준편차 :  2.5298221281347035\n",
      "20\n",
      "[8 9 3 2 4 5 8 7 5 4 7 5 7 7 6 4 4 2 5 8]\n",
      "평균 :  5.5\n",
      "분산 :  4.05\n",
      "표준편차 :  2.0124611797498106\n",
      "1000\n",
      "0\n"
     ]
    }
   ],
   "source": [
    "while 1:\n",
    "    k=int(input())\n",
    "    if k==0:\n",
    "        break\n",
    "    elif k<10 or k>100:\n",
    "        continue\n",
    "    else:\n",
    "        a=np.random.randint(1,10,size=(k))\n",
    "        print(a)\n",
    "        print('평균 : ',a.mean())\n",
    "        print('분산 : ',a.var())\n",
    "        print('표준편차 : ',a.std())"
   ]
  },
  {
   "cell_type": "markdown",
   "metadata": {},
   "source": [
    "# 문제4."
   ]
  },
  {
   "cell_type": "code",
   "execution_count": 6,
   "metadata": {
    "execution": {
     "iopub.execute_input": "2022-09-19T10:26:08.102003Z",
     "iopub.status.busy": "2022-09-19T10:26:08.101592Z",
     "iopub.status.idle": "2022-09-19T10:26:08.112335Z",
     "shell.execute_reply": "2022-09-19T10:26:08.111070Z",
     "shell.execute_reply.started": "2022-09-19T10:26:08.101969Z"
    }
   },
   "outputs": [
    {
     "data": {
      "text/plain": [
       "array([[ 61.82318439, 103.8036098 ,  64.30483124,  85.55581883,\n",
       "         90.65840988,  75.62940578,  69.48008039],\n",
       "       [ 67.24912873,  89.0696944 ,  65.6441665 ,  68.01491895,\n",
       "         72.63093835,  85.38879084,  72.60344332],\n",
       "       [ 75.72623991,  98.66902595, 117.59605583, 113.73612989,\n",
       "         84.41008529, 111.70070306,  90.2583932 ],\n",
       "       [ 43.26460592,  88.42275142,  86.55829775,  89.97668448,\n",
       "        109.85977859,  77.16386014,  96.41472625],\n",
       "       [105.23784608,  82.12973324,  93.41231489,  76.94326836,\n",
       "         83.26715333,  88.39474219,  75.96493718],\n",
       "       [111.53260386,  67.3184067 ,  69.536443  ,  78.30436067,\n",
       "         95.96972803,  62.15937356,  73.49905111],\n",
       "       [ 85.7146929 , 121.98751314,  63.79904028,  84.822845  ,\n",
       "         79.96885927,  70.21138977,  60.23143666],\n",
       "       [107.53175385,  86.78427907,  85.50674375,  93.33735626,\n",
       "         80.06453363,  91.86796297,  73.73726632],\n",
       "       [ 98.46008249,  55.35204528,  82.03624062,  70.66589706,\n",
       "         54.78122613,  95.63233154,  67.48602895],\n",
       "       [ 72.86797686,  73.97391993, 105.58457223,  87.58910918,\n",
       "         78.18417422,  59.67090813,  62.72510219]])"
      ]
     },
     "execution_count": 6,
     "metadata": {},
     "output_type": "execute_result"
    }
   ],
   "source": [
    "a=np.random.normal(80,15,size=(10,7))\n",
    "a"
   ]
  },
  {
   "cell_type": "code",
   "execution_count": 7,
   "metadata": {
    "execution": {
     "iopub.execute_input": "2022-09-19T11:14:15.905932Z",
     "iopub.status.busy": "2022-09-19T11:14:15.905516Z",
     "iopub.status.idle": "2022-09-19T11:14:15.914581Z",
     "shell.execute_reply": "2022-09-19T11:14:15.913653Z",
     "shell.execute_reply.started": "2022-09-19T11:14:15.905899Z"
    }
   },
   "outputs": [
    {
     "name": "stdout",
     "output_type": "stream",
     "text": [
      "[111.53260386 121.98751314 117.59605583 113.73612989 109.85977859\n",
      " 111.70070306  96.41472625]\n",
      "[5 6 2 2 3 2 3]\n",
      "1열 최대값: 111.532604, 위치: 6행\n",
      "2열 최대값: 121.987513, 위치: 7행\n",
      "3열 최대값: 117.596056, 위치: 3행\n",
      "4열 최대값: 113.736130, 위치: 3행\n",
      "5열 최대값: 109.859779, 위치: 4행\n",
      "6열 최대값: 111.700703, 위치: 3행\n",
      "7열 최대값: 96.414726, 위치: 4행\n",
      "\n",
      "\n",
      "1행 최대값: 103.803610, 위치: 2열\n",
      "2행 최대값: 89.069694, 위치: 2열\n",
      "3행 최대값: 117.596056, 위치: 3열\n",
      "4행 최대값: 109.859779, 위치: 5열\n",
      "5행 최대값: 105.237846, 위치: 1열\n",
      "6행 최대값: 111.532604, 위치: 1열\n",
      "7행 최대값: 121.987513, 위치: 2열\n",
      "8행 최대값: 107.531754, 위치: 1열\n",
      "9행 최대값: 98.460082, 위치: 1열\n",
      "10행 최대값: 105.584572, 위치: 3열\n"
     ]
    }
   ],
   "source": [
    "print(a.max(0))\n",
    "print(a.argmax(0))\n",
    "for i in range(7):\n",
    "    print('%d열 최대값: %f, 위치: %d행'%(i+1,a.max(0)[i],a.argmax(0)[i]+1))\n",
    "print('\\n')\n",
    "for i in range(10):\n",
    "    print('%d행 최대값: %f, 위치: %d열'%(i+1,a.max(1)[i],a.argmax(1)[i]+1))\n",
    "    "
   ]
  },
  {
   "cell_type": "markdown",
   "metadata": {},
   "source": [
    "# 문제5"
   ]
  },
  {
   "cell_type": "code",
   "execution_count": 8,
   "metadata": {
    "execution": {
     "iopub.execute_input": "2022-09-19T11:57:47.167549Z",
     "iopub.status.busy": "2022-09-19T11:57:47.167054Z",
     "iopub.status.idle": "2022-09-19T11:57:47.177178Z",
     "shell.execute_reply": "2022-09-19T11:57:47.175728Z",
     "shell.execute_reply.started": "2022-09-19T11:57:47.167509Z"
    }
   },
   "outputs": [
    {
     "data": {
      "text/plain": [
       "array([[5, 9, 6, 9, 2],\n",
       "       [8, 7, 4, 5, 4],\n",
       "       [4, 8, 8, 3, 1],\n",
       "       [2, 2, 3, 2, 6],\n",
       "       [6, 2, 1, 7, 6],\n",
       "       [6, 4, 7, 7, 5],\n",
       "       [9, 4, 3, 4, 2],\n",
       "       [7, 2, 3, 7, 3],\n",
       "       [9, 5, 9, 1, 5],\n",
       "       [7, 1, 2, 3, 4],\n",
       "       [2, 8, 8, 7, 7],\n",
       "       [1, 5, 5, 1, 6]])"
      ]
     },
     "execution_count": 8,
     "metadata": {},
     "output_type": "execute_result"
    }
   ],
   "source": [
    "a=np.random.randint(1,10,size=(12,5))\n",
    "a"
   ]
  },
  {
   "cell_type": "code",
   "execution_count": 9,
   "metadata": {
    "execution": {
     "iopub.execute_input": "2022-09-19T12:09:50.493419Z",
     "iopub.status.busy": "2022-09-19T12:09:50.492257Z",
     "iopub.status.idle": "2022-09-19T12:09:50.502330Z",
     "shell.execute_reply": "2022-09-19T12:09:50.501297Z",
     "shell.execute_reply.started": "2022-09-19T12:09:50.493363Z"
    }
   },
   "outputs": [
    {
     "name": "stdout",
     "output_type": "stream",
     "text": [
      "데이터: 1, 개수: 6 개\n",
      "데이터: 2, 개수: 9 개\n",
      "데이터: 3, 개수: 6 개\n",
      "데이터: 4, 개수: 7 개\n",
      "데이터: 5, 개수: 7 개\n",
      "데이터: 6, 개수: 6 개\n",
      "데이터: 7, 개수: 9 개\n",
      "데이터: 8, 개수: 5 개\n",
      "데이터: 9, 개수: 5 개\n",
      "\n",
      "\n",
      "1열 최솟값: 1, 위치: 12행\n",
      "2열 최솟값: 1, 위치: 10행\n",
      "3열 최솟값: 1, 위치: 5행\n",
      "4열 최솟값: 1, 위치: 9행\n",
      "5열 최솟값: 1, 위치: 3행\n"
     ]
    }
   ],
   "source": [
    "t, n = np.unique(a,return_counts=True)\n",
    "for i in range(len(t)):\n",
    "    print('데이터: %d, 개수: %d 개'%(t[i],n[i]))\n",
    "print('\\n')\n",
    "for i in range(5):\n",
    "    print('%d열 최솟값: %d, 위치: %d행'%(i+1,a.min(0)[i],a.argmin(0)[i]+1))"
   ]
  },
  {
   "cell_type": "code",
   "execution_count": null,
   "metadata": {},
   "outputs": [],
   "source": []
  }
 ],
 "metadata": {
  "kernelspec": {
   "display_name": "Python 3 (ipykernel)",
   "language": "python",
   "name": "python3"
  },
  "language_info": {
   "codemirror_mode": {
    "name": "ipython",
    "version": 3
   },
   "file_extension": ".py",
   "mimetype": "text/x-python",
   "name": "python",
   "nbconvert_exporter": "python",
   "pygments_lexer": "ipython3",
   "version": "3.9.12"
  }
 },
 "nbformat": 4,
 "nbformat_minor": 4
}
